{
 "cells": [
  {
   "cell_type": "markdown",
   "id": "2a980619",
   "metadata": {},
   "source": [
    "#   TP2  -  Conway’s Game of Life \n",
    "## Novembro, 2022\n",
    "\n",
    "Bruno Miguel Ferreira Fernandes - a95972\n",
    "\n",
    "Hugo Filipe de Sá Rocha - a96463"
   ]
  },
  {
   "cell_type": "markdown",
   "id": "eaccd092",
   "metadata": {},
   "source": [
    "### Definir  valores de input  do problema"
   ]
  },
  {
   "cell_type": "code",
   "execution_count": 40,
   "id": "7bfcb143",
   "metadata": {},
   "outputs": [],
   "source": [
    "from pysmt.shortcuts import *\n",
    "from pysmt.typing import INT\n",
    "from z3 import *\n",
    "import random\n",
    "\n",
    "\n",
    "global N\n",
    "N = 5\n",
    "global centro\n",
    "centro = (random.randint(2,N-2),random.randint(2,N-2))\n",
    "global p\n",
    "p = 0.5"
   ]
  },
  {
   "cell_type": "markdown",
   "id": "8cfa5287",
   "metadata": {},
   "source": [
    "### Funções auxiliares\n",
    "- gera_aleatorio() - Gera número aleatório 0 ou 1,com probabilidade p de sair 1 e (1-p) de sair 0.\n",
    "- nao_quad_central() - Gera a lista das posições da matriz que não estão contidas no quadrado central, preenchidas com 0 no estado inicial."
   ]
  },
  {
   "cell_type": "code",
   "execution_count": 41,
   "id": "d2be7281",
   "metadata": {},
   "outputs": [],
   "source": [
    "def gera_aleatorio():\n",
    "        r = random.randint(1,100)\n",
    "        if r <= p*100:\n",
    "            return 1\n",
    "        else:\n",
    "            return 0\n",
    "\n",
    "\n",
    "def nao_quad_central():\n",
    "    res = [(i,j) for i in range(1,N+1) for j in range(1,N+1)]\n",
    "    for i in range(centro[0]-1,centro[0]+2):\n",
    "          for j in range(centro[1]-1, centro[1]+2):\n",
    "                res.remove((i,j))\n",
    "    return list(res)\n",
    "\n",
    "global nqc\n",
    "nqc = nao_quad_central()\n",
    "\n",
    "        \n",
    "global pos\n",
    "pos = [f'({i},{j})' for i in range(1,N+1) for j in range(1,N+1)]"
   ]
  },
  {
   "cell_type": "markdown",
   "id": "44c08c6c",
   "metadata": {},
   "source": [
    "A seguinte função cria a $k$-ésima cópia das variáveis de estado, agrupadas num dicionário que nos permite aceder às mesmas pelo nome:"
   ]
  },
  {
   "cell_type": "code",
   "execution_count": 42,
   "id": "3fed8efc",
   "metadata": {},
   "outputs": [],
   "source": [
    "def declare(k):\n",
    "    state = {}\n",
    "    state['pc'] = Int('pc'+str(k))\n",
    "    for i in range(1,N+1):\n",
    "        for j in range(1,N+1):\n",
    "            state[f'({i},{j})'] = Int('('+str(i)+','+str(j)+')')\n",
    "    for i in range(N+1):\n",
    "        state[f'(0,{i})'] = Int('(0,'+str(i)+')')\n",
    "    for i in range(1,N+1):\n",
    "        state[f'({i},0)'] = Int('('+str(i)+',0)')\n",
    "    return state"
   ]
  },
  {
   "cell_type": "markdown",
   "id": "783831a8",
   "metadata": {},
   "source": [
    "A seguinte função `init`, dado um possível estado do programa (um dicionário de variáveis), devolve um predicado do pySMT que testa se esse estado é um possível estado inicial do programa."
   ]
  },
  {
   "cell_type": "code",
   "execution_count": 43,
   "id": "ce407333",
   "metadata": {},
   "outputs": [],
   "source": [
    "#verifica se é estado inicial( pc == 0, posicoes do quadrado central a 1, \n",
    "#bordas aleatorias, colocar as restantes posicoes a 0)\n",
    "def init(state):\n",
    "    return And(\n",
    "        state['pc'] == 0,\n",
    "        (And([(state[f'({i},{j})'] == 1) for i in range(centro[0]-1,centro[0]+2) \n",
    "                                         for j in range(centro[1]-1, centro[1]+2)])),\n",
    "        (And([(state[f'(0,{i})'] == gera_aleatorio()) for i in range(N+1)])),                            \n",
    "        (And([(state[f'({i},0)'] == gera_aleatorio()) for i in range(1,N+1) ])), \n",
    "        (And([(state[f'({i},{j})'] == 0) for (i,j) in nqc]))\n",
    "    )\n",
    "\n"
   ]
  },
  {
   "cell_type": "markdown",
   "id": "cf1bb908",
   "metadata": {},
   "source": [
    "A seguinte função `vizinhos_vivos`, dada uma célula e um estado, retorna o número de vizinhos vivos dessa célula no estado state."
   ]
  },
  {
   "cell_type": "code",
   "execution_count": 44,
   "id": "b7bf70e5",
   "metadata": {},
   "outputs": [],
   "source": [
    "#funçao que dada uma string do tipo '(x,y)' e um estado, retorna o numero \n",
    "#de vizinhos vivos da celula (x,y) no estado state\n",
    "def vizinhos_vivos(celstr, state): \n",
    "    x = int(celstr[1])\n",
    "    y = int(celstr[3]) \n",
    "    moves = [(x+1,y), (x,y+1), (x-1,y), (x,y-1)]\n",
    "    return len(list(filter(lambda t: t[0] >= 0 and t[0] <= N and t[1] >= 0 and t[1] <= N \n",
    "                           and state[f'({t[0]},{t[1]})'] == 1,moves)))\n",
    "\n"
   ]
  },
  {
   "cell_type": "markdown",
   "id": "40a111c3",
   "metadata": {},
   "source": [
    "A seguinte função `nasce`, garante que as células nascem nas condições abaixo:"
   ]
  },
  {
   "cell_type": "markdown",
   "id": "445b1d31",
   "metadata": {},
   "source": [
    "- Caso a célula possua 3 vizinhos vivos a célula passa de 0 para 1."
   ]
  },
  {
   "cell_type": "code",
   "execution_count": 45,
   "id": "51a67db7",
   "metadata": {},
   "outputs": [],
   "source": [
    "def nasce(curr,prox):\n",
    "    \n",
    "    return And([(prox[v] == 1)          for v in pos\n",
    "                                        if curr[v] == 0 \n",
    "                                        if vizinhos_vivos(v,curr) == 3\n",
    "               ]\n",
    "              )\n",
    "                                        "
   ]
  },
  {
   "cell_type": "markdown",
   "id": "892756dd",
   "metadata": {},
   "source": [
    "A seguinte função `sobrevive`, garante que as células sobrevivem (mantém-se viva) nas condições abaixo:"
   ]
  },
  {
   "cell_type": "markdown",
   "id": "e3c6be81",
   "metadata": {},
   "source": [
    "- Caso a célula possua 2 ou 3 vizinhos vivos, caso contrário morre ou continua morta."
   ]
  },
  {
   "cell_type": "code",
   "execution_count": 46,
   "id": "cf1e1beb",
   "metadata": {},
   "outputs": [],
   "source": [
    "def sobrevive(curr,prox):\n",
    "  \n",
    "    return And([(prox[v] == 1)            for v in pos            \n",
    "                                          if curr[v] == 1 \n",
    "                                          if vizinhos_vivos(v,curr) == 3 \n",
    "                                          or vizinhos_vivos(v,curr) == 2\n",
    "               ]     \n",
    "              )"
   ]
  },
  {
   "cell_type": "markdown",
   "id": "5c17a926",
   "metadata": {},
   "source": [
    "A seguinte função `morre`, garante que as células morrem nas condições abaixo:"
   ]
  },
  {
   "cell_type": "markdown",
   "id": "c92595cc",
   "metadata": {},
   "source": [
    "- Caso a célula não possua 2 nem 3 vizinhos vivos."
   ]
  },
  {
   "cell_type": "code",
   "execution_count": 47,
   "id": "e0d2456d",
   "metadata": {},
   "outputs": [],
   "source": [
    "def morre(curr,prox):\n",
    "    \n",
    "    return And([(prox[v] == 0)            for v in pos\n",
    "                                          if curr[v] == 1 \n",
    "                                          if UGE(vizinhos_vivos(v,curr),4)\n",
    "                                          or Not(UGE(vizinhos_vivos(v,curr),2))\n",
    "               ]     \n",
    "              )"
   ]
  },
  {
   "cell_type": "markdown",
   "id": "1b17efc5",
   "metadata": {},
   "source": [
    "A seguinte função `continua_morta`, garante que as células permanecem mortas nas condições abaixo:"
   ]
  },
  {
   "cell_type": "markdown",
   "id": "332c1516",
   "metadata": {},
   "source": [
    "- Caso a célula continue sem possuir nem 2, nem 3 vizinhos, então permanece no seu estado morta. "
   ]
  },
  {
   "cell_type": "code",
   "execution_count": 48,
   "id": "05a5bc65",
   "metadata": {},
   "outputs": [],
   "source": [
    "def continua_morta(curr,prox):\n",
    "    \n",
    "    return And([(prox[v] == 0)            for v in pos\n",
    "                                          if curr[v] == 0\n",
    "                                          if UGE(vizinhos_vivos(v,curr),4)\n",
    "                                          or Not(UGE(vizinhos_vivos(v,curr),2))]     \n",
    "              )\n",
    "\n"
   ]
  },
  {
   "cell_type": "markdown",
   "id": "4249db08",
   "metadata": {},
   "source": [
    "A seguinte função `trans`, dados dois possíveis estados do programa, devolve um predicado do pySMT que testa se é possível transitar do primeiro para o segundo estado."
   ]
  },
  {
   "cell_type": "code",
   "execution_count": 49,
   "id": "3ceb49c5",
   "metadata": {},
   "outputs": [],
   "source": [
    "def trans(curr,prox):\n",
    "    \n",
    "    \n",
    "    t0 = And(\n",
    "             prox['pc'] == curr['pc']+1,\n",
    "             nasce(curr,prox),\n",
    "             sobrevive(curr,prox),\n",
    "             morre(curr,prox),\n",
    "             continua_morta(curr,prox)\n",
    "             \n",
    "    )\n",
    "    \n",
    "    \n",
    "    t1 = And(\n",
    "              prox['pc'] == curr['pc'],\n",
    "              prox == curr\n",
    "             \n",
    "         )\n",
    "    \n",
    "    \n",
    "    \n",
    "    \n",
    "    \n",
    "    return Or(t0,t1)"
   ]
  },
  {
   "cell_type": "markdown",
   "id": "d3de9fec",
   "metadata": {},
   "source": [
    "A função `gera_traco`, dada uma função que gera uma cópia das variáveis do estado, um predicado que testa se um estado é inicial, um predicado que testa se um par de estados é uma transição válida, e um número positivo k gera um possível traço de execução do programa de tamanho k."
   ]
  },
  {
   "cell_type": "code",
   "execution_count": 50,
   "id": "807f615f",
   "metadata": {},
   "outputs": [
    {
     "name": "stdout",
     "output_type": "stream",
     "text": [
      "Passo 0\n",
      "pc = 0\n",
      "(1,1) = 1\n",
      "(1,2) = 1\n",
      "(1,3) = 1\n",
      "(1,4) = 0\n",
      "(1,5) = 0\n",
      "(2,1) = 1\n",
      "(2,2) = 1\n",
      "(2,3) = 1\n",
      "(2,4) = 0\n",
      "(2,5) = 0\n",
      "(3,1) = 1\n",
      "(3,2) = 1\n",
      "(3,3) = 1\n",
      "(3,4) = 0\n",
      "(3,5) = 0\n",
      "(4,1) = 0\n",
      "(4,2) = 0\n",
      "(4,3) = 0\n",
      "(4,4) = 0\n",
      "(4,5) = 0\n",
      "(5,1) = 0\n",
      "(5,2) = 0\n",
      "(5,3) = 0\n",
      "(5,4) = 0\n",
      "(5,5) = 0\n",
      "(0,0) = 1\n",
      "(0,1) = 1\n",
      "(0,2) = 0\n",
      "(0,3) = 1\n",
      "(0,4) = 1\n",
      "(0,5) = 1\n",
      "(1,0) = 1\n",
      "(2,0) = 0\n",
      "(3,0) = 0\n",
      "(4,0) = 1\n",
      "(5,0) = 0\n",
      "----------------\n",
      "Passo 1\n",
      "pc = 1\n",
      "(1,1) = 1\n",
      "(1,2) = 1\n",
      "(1,3) = 1\n",
      "(1,4) = 0\n",
      "(1,5) = 0\n",
      "(2,1) = 1\n",
      "(2,2) = 1\n",
      "(2,3) = 1\n",
      "(2,4) = 0\n",
      "(2,5) = 0\n",
      "(3,1) = 1\n",
      "(3,2) = 1\n",
      "(3,3) = 1\n",
      "(3,4) = 0\n",
      "(3,5) = 0\n",
      "(4,1) = 0\n",
      "(4,2) = 0\n",
      "(4,3) = 0\n",
      "(4,4) = 0\n",
      "(4,5) = 0\n",
      "(5,1) = 0\n",
      "(5,2) = 0\n",
      "(5,3) = 0\n",
      "(5,4) = 0\n",
      "(5,5) = 0\n",
      "(0,0) = 1\n",
      "(0,1) = 1\n",
      "(0,2) = 0\n",
      "(0,3) = 1\n",
      "(0,4) = 1\n",
      "(0,5) = 1\n",
      "(1,0) = 1\n",
      "(2,0) = 0\n",
      "(3,0) = 0\n",
      "(4,0) = 1\n",
      "(5,0) = 0\n",
      "----------------\n",
      "Passo 2\n",
      "pc = 2\n",
      "(1,1) = 1\n",
      "(1,2) = 1\n",
      "(1,3) = 1\n",
      "(1,4) = 0\n",
      "(1,5) = 0\n",
      "(2,1) = 1\n",
      "(2,2) = 1\n",
      "(2,3) = 1\n",
      "(2,4) = 0\n",
      "(2,5) = 0\n",
      "(3,1) = 1\n",
      "(3,2) = 1\n",
      "(3,3) = 1\n",
      "(3,4) = 0\n",
      "(3,5) = 0\n",
      "(4,1) = 0\n",
      "(4,2) = 0\n",
      "(4,3) = 0\n",
      "(4,4) = 0\n",
      "(4,5) = 0\n",
      "(5,1) = 0\n",
      "(5,2) = 0\n",
      "(5,3) = 0\n",
      "(5,4) = 0\n",
      "(5,5) = 0\n",
      "(0,0) = 1\n",
      "(0,1) = 1\n",
      "(0,2) = 0\n",
      "(0,3) = 1\n",
      "(0,4) = 1\n",
      "(0,5) = 1\n",
      "(1,0) = 1\n",
      "(2,0) = 0\n",
      "(3,0) = 0\n",
      "(4,0) = 1\n",
      "(5,0) = 0\n",
      "----------------\n",
      "Passo 3\n",
      "pc = 3\n",
      "(1,1) = 1\n",
      "(1,2) = 1\n",
      "(1,3) = 1\n",
      "(1,4) = 0\n",
      "(1,5) = 0\n",
      "(2,1) = 1\n",
      "(2,2) = 1\n",
      "(2,3) = 1\n",
      "(2,4) = 0\n",
      "(2,5) = 0\n",
      "(3,1) = 1\n",
      "(3,2) = 1\n",
      "(3,3) = 1\n",
      "(3,4) = 0\n",
      "(3,5) = 0\n",
      "(4,1) = 0\n",
      "(4,2) = 0\n",
      "(4,3) = 0\n",
      "(4,4) = 0\n",
      "(4,5) = 0\n",
      "(5,1) = 0\n",
      "(5,2) = 0\n",
      "(5,3) = 0\n",
      "(5,4) = 0\n",
      "(5,5) = 0\n",
      "(0,0) = 1\n",
      "(0,1) = 1\n",
      "(0,2) = 0\n",
      "(0,3) = 1\n",
      "(0,4) = 1\n",
      "(0,5) = 1\n",
      "(1,0) = 1\n",
      "(2,0) = 0\n",
      "(3,0) = 0\n",
      "(4,0) = 1\n",
      "(5,0) = 0\n",
      "----------------\n",
      "Passo 4\n",
      "pc = 4\n",
      "(1,1) = 1\n",
      "(1,2) = 1\n",
      "(1,3) = 1\n",
      "(1,4) = 0\n",
      "(1,5) = 0\n",
      "(2,1) = 1\n",
      "(2,2) = 1\n",
      "(2,3) = 1\n",
      "(2,4) = 0\n",
      "(2,5) = 0\n",
      "(3,1) = 1\n",
      "(3,2) = 1\n",
      "(3,3) = 1\n",
      "(3,4) = 0\n",
      "(3,5) = 0\n",
      "(4,1) = 0\n",
      "(4,2) = 0\n",
      "(4,3) = 0\n",
      "(4,4) = 0\n",
      "(4,5) = 0\n",
      "(5,1) = 0\n",
      "(5,2) = 0\n",
      "(5,3) = 0\n",
      "(5,4) = 0\n",
      "(5,5) = 0\n",
      "(0,0) = 1\n",
      "(0,1) = 1\n",
      "(0,2) = 0\n",
      "(0,3) = 1\n",
      "(0,4) = 1\n",
      "(0,5) = 1\n",
      "(1,0) = 1\n",
      "(2,0) = 0\n",
      "(3,0) = 0\n",
      "(4,0) = 1\n",
      "(5,0) = 0\n",
      "----------------\n"
     ]
    }
   ],
   "source": [
    "def gera_traco(declare,init,trans,k):\n",
    "        \n",
    "        s = Solver()\n",
    "    \n",
    "        trace = [declare(i) for i in range(k)]\n",
    "\n",
    "        s.add(init(trace[0]))\n",
    "        \n",
    "        for i in range(k-1):\n",
    "            s.add(trans(trace[i], trace[i+1]))\n",
    "            \n",
    "        if s.check() == sat:\n",
    "            m = s.model()\n",
    "            for i in range(k):\n",
    "                print(\"Passo\", i)\n",
    "                for v in trace[i]:\n",
    "                    print(v, \"=\", m[trace[i][v]])\n",
    "                print(\"----------------\")\n",
    "            \n",
    "        else:\n",
    "            print(\"Não foi possível gerar o traço.\\n\")\n",
    "        \n",
    "          \n",
    "\n",
    "gera_traco(declare,init,trans,5)"
   ]
  },
  {
   "cell_type": "markdown",
   "id": "2c53a79b",
   "metadata": {},
   "source": [
    "A função `testa_prop_1`, dada uma função que gera uma cópia das variáveis do estado, um predicado que testa se um estado é inicial, um predicado que testa se um par de estados é uma transição válida, um predicado a testar e um número positivo k, testa se a propriedade seguinte é satisfeita:\n",
    "\n",
    "- Todos os estados acessíveis contém pelo menos uma célula viva."
   ]
  },
  {
   "cell_type": "code",
   "execution_count": 51,
   "id": "4aebf053",
   "metadata": {},
   "outputs": [
    {
     "name": "stdout",
     "output_type": "stream",
     "text": [
      "A propriedade 1 verifica-se.\n",
      "\n"
     ]
    }
   ],
   "source": [
    "def testa_prop_1(declare,init,trans,inv,K):\n",
    "    s = Solver()\n",
    "    \n",
    "    \n",
    "    trace = [declare(i) for i in range(K)]\n",
    "        \n",
    "        \n",
    "    s.add(init(trace[0]))\n",
    "        \n",
    "    for i in range(K-1):\n",
    "         s.add(trans(trace[i], trace[i+1]))\n",
    "        \n",
    "    s.add(Not(And([inv(trace[i]) for i in range(K-1)])))\n",
    "            \n",
    "    if s.check() == sat:\n",
    "                print(\"A propriedade 1 não é satisfeita.\\n\")\n",
    "                return\n",
    " \n",
    "    else:\n",
    "        print(f'A propriedade 1 verifica-se.\\n')\n",
    "\n",
    "\n",
    "def inv1(state):\n",
    "\n",
    "    for v in state:\n",
    "        if v not in ['pc']:\n",
    "            if state[v] == 0:\n",
    "                continue\n",
    "            else:\n",
    "                return True\n",
    "    \n",
    "    return False\n",
    "\n",
    "testa_prop_1(declare,init,trans,inv1,5)"
   ]
  },
  {
   "cell_type": "markdown",
   "id": "f29f9cb2",
   "metadata": {},
   "source": [
    "A função `testa_prop_2`, dada uma função que gera uma cópia das variáveis do estado, um predicado que testa se um estado é inicial, um predicado que testa se um par de estados é uma transição válida, um predicado a testar e um número positivo k, testa se a propriedade seguinte é satisfeita:\n",
    "\n",
    "- Toda a célula normal está viva pelo menos uma vez em algum estado acessível."
   ]
  },
  {
   "cell_type": "code",
   "execution_count": 52,
   "id": "9c0da6d3",
   "metadata": {},
   "outputs": [
    {
     "name": "stdout",
     "output_type": "stream",
     "text": [
      "A propriedade 2 não é satisfeita.\n",
      "\n"
     ]
    }
   ],
   "source": [
    "def testa_prop_2(declare,init,trans,inv,K):\n",
    "    s = Solver()\n",
    "    \n",
    "    \n",
    "    trace = [declare(i) for i in range(K)]\n",
    "        \n",
    "        \n",
    "    s.add(init(trace[0]))\n",
    "        \n",
    "    for i in range(K-1):\n",
    "         s.add(trans(trace[i], trace[i+1]))\n",
    "    \n",
    "    res = [f'({i},{j})' for i in range(1, N+1) for j in range(1,N+1)]\n",
    "    \n",
    "    for cel in res:\n",
    "        s.add(Not(Or([inv(trace[i], cel) for i in range(K-1)])))     \n",
    "            \n",
    "    if s.check() == sat:\n",
    "                print(\"A propriedade 2 não é satisfeita.\\n\")\n",
    "                return\n",
    " \n",
    "    else:\n",
    "        print(f'A propriedade 2 verifica-se.\\n')\n",
    "\n",
    "def inv2(state, cel):\n",
    "    if state[cel] == 1:\n",
    "        return True\n",
    "    return False\n",
    "\n",
    "testa_prop_2(declare,init,trans,inv2,5)\n",
    "\n"
   ]
  }
 ],
 "metadata": {
  "kernelspec": {
   "display_name": "Python 3 (ipykernel)",
   "language": "python",
   "name": "python3"
  },
  "language_info": {
   "codemirror_mode": {
    "name": "ipython",
    "version": 3
   },
   "file_extension": ".py",
   "mimetype": "text/x-python",
   "name": "python",
   "nbconvert_exporter": "python",
   "pygments_lexer": "ipython3",
   "version": "3.10.6"
  }
 },
 "nbformat": 4,
 "nbformat_minor": 5
}
