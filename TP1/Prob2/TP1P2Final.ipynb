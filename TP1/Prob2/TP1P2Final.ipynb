{
 "cells": [
  {
   "cell_type": "markdown",
   "id": "8ecf85a8",
   "metadata": {},
   "source": [
    "#   TP1 - Problema do Vetor Curto  (SVP)\n",
    "## Outubro, 2022\n",
    "\n",
    "Bruno Miguel Ferreira Fernandes - a95972\n",
    "\n",
    "Hugo Filipe de Sá Rocha - a96463"
   ]
  },
  {
   "cell_type": "markdown",
   "id": "3bb504f4",
   "metadata": {},
   "source": [
    "# Variáveis\n",
    "#### Inputs do Problema:\n",
    "\n",
    "- m - número de componentes do vetor \"e\" e do número de linhas da matriz L.\n",
    "- n - número de colunas de L e do vetor produto.\n",
    "- q - número primo maior ou igual a 3 ao qual todos os elementos do vetor produto são múltiplos.\n",
    "- d - número (q-1)/2 que define o intervalo de geração dos componentes da matriz L ([-d,d]).\n",
    "\n",
    "### Auxiliares\n",
    "\n",
    "- $ L_{j,i}$ - representa a matriz que será gerada aleatoriamente de dimensão m x n, com j∈M e i∈N.\n",
    "- $ k_{n} $ - representa  o vetor dos k's tais que multiplicados por q dão como resultado as componentes do vetor produto.\n",
    "- $ e_{m} $ - representa o vetor \"e\" com m componentes pertencente a {-1,0,1}.\n",
    "- $quadrados_{m}$ - representa o vetor com as componentes do vetor \"e\" ao quadrado.\n",
    "\n",
    "\n",
    "### Condições\n",
    "\n",
    "Em notação matricial:\n",
    "\n",
    "$\\left\\{\\begin{array}{rcl}\\exists\\,e\\in \\{-1,0,1\\}^m\\,\\centerdot\\,\\exists\\,k\\in \\mathbb{Z}^n &\\centerdot & e\\times \\mathsf{L} \\;=\\; q\\,k \\\\ \\exists\\,i < n &\\centerdot & e_i \\,\\neq\\, 0 \\end{array}\\right.$ \n",
    "\n",
    "\n",
    "### Critérios de optimização\n",
    "\n",
    "1. Minimizar o número de componentes não nulas."
   ]
  },
  {
   "cell_type": "markdown",
   "id": "b083ede3",
   "metadata": {},
   "source": [
    "#### Funções auxiliares:\n",
    "- tam_bits(x) - calcula número de bits necessários para representar o inteiro x."
   ]
  },
  {
   "cell_type": "code",
   "execution_count": 1,
   "id": "893b1d4f",
   "metadata": {},
   "outputs": [],
   "source": [
    "def tam_bits(x):\n",
    "    contador = 0\n",
    "\n",
    "    while (x >= 2**contador):\n",
    "          contador+=1\n",
    "        \n",
    "    return contador"
   ]
  },
  {
   "cell_type": "markdown",
   "id": "c2374f71",
   "metadata": {},
   "source": [
    "### Definir  valores de input  do problema"
   ]
  },
  {
   "cell_type": "code",
   "execution_count": 2,
   "id": "38972501",
   "metadata": {},
   "outputs": [],
   "source": [
    "# Importar biblioteca\n",
    "from ortools.sat.python import cp_model\n",
    "import random\n",
    "\n",
    "# Cria o modelo CP-SAT\n",
    "model = cp_model.CpModel()\n",
    "\n",
    "n = 5\n",
    "#print(tam_bits(n))\n",
    "m =  16  \n",
    "#print(tam_bits(m))\n",
    "q = 37  \n",
    "#print(tam_bits(q))\n",
    "d = 18 "
   ]
  },
  {
   "cell_type": "code",
   "execution_count": 3,
   "id": "7c1bd5d3",
   "metadata": {},
   "outputs": [],
   "source": [
    "#gera a matriz L de forma aleatória no intervalo [-d,d]\n",
    "\n",
    "L = {}\n",
    "\n",
    "\n",
    "for j in range(m):\n",
    "    L[j] = {}\n",
    "    for i in range(n):\n",
    "        L[j][i] = random.randint(-d,d)\n",
    "\n",
    "#dar print à matriz L\n",
    "'''\n",
    "for j in range(m):\n",
    "      for i in range(n):\n",
    "            print(f'L[{j}][{i}]:')\n",
    "            print(L[j][i])\n",
    "'''\n",
    "\n",
    "#criar vetor e, com m componentes em [-1,0,1]\n",
    "e = {}\n",
    "\n",
    "\n",
    "for j in range(m):\n",
    "    e[j] = model.NewIntVar(-1,1,f'e[{j}]')\n",
    "    \n",
    "\n",
    "#criar vetor k, vetor dos valores k tais que k[i]*q é igual à i-ésima \n",
    "           #componente do vetor resultante do produto e*L\n",
    "    \n",
    "k = {}\n",
    "\n",
    "for i in range(n):\n",
    "    k[i] = model.NewIntVar(-10000, 10000, f'k[{i}]')\n",
    "\n",
    "#vetor quadrados onde quadrados[i] tem guardado o valor do quadrado \n",
    "           #da i-ésima componente do vetor e\n",
    "    \n",
    "quadrados = {}\n",
    "\n",
    "for i in range(m):\n",
    "        quadrados[i] = model.NewIntVar(0,1, f'quadrados[{i}]')\n",
    "        model.AddMultiplicationEquality(quadrados[i], [e[i],e[i]])\n"
   ]
  },
  {
   "cell_type": "markdown",
   "id": "68735ded",
   "metadata": {},
   "source": [
    "## Modelação das restrições"
   ]
  },
  {
   "cell_type": "markdown",
   "id": "a81ad4d2",
   "metadata": {},
   "source": [
    "1. Restrição que garante que cada componente do vetor produto é múltiplo de q."
   ]
  },
  {
   "cell_type": "markdown",
   "id": "b9bc5630",
   "metadata": {},
   "source": [
    "$\\forall_{i<n} \\cdot (\\sum_{j < m} e_{j}*L[j][i]  == q*k_{i})$"
   ]
  },
  {
   "cell_type": "code",
   "execution_count": 4,
   "id": "3e15adab",
   "metadata": {},
   "outputs": [],
   "source": [
    "for i in range(n):  \n",
    "    model.Add(   sum(  [ e[j]*L[j][i] for j in range(m) ] )  == q*k[i]    )"
   ]
  },
  {
   "cell_type": "markdown",
   "id": "1c4d5214",
   "metadata": {},
   "source": [
    "2. Restrição que garante que o vetor \"e\" não é nulo."
   ]
  },
  {
   "cell_type": "markdown",
   "id": "a4329abc",
   "metadata": {},
   "source": [
    "$ \\sum_{i<m} quadrados_{i} \\geq 1 $"
   ]
  },
  {
   "cell_type": "code",
   "execution_count": 5,
   "id": "2c5334e1",
   "metadata": {
    "collapsed": true
   },
   "outputs": [
    {
     "data": {
      "text/plain": [
       "<ortools.sat.python.cp_model.Constraint at 0x248e32c66e0>"
      ]
     },
     "execution_count": 5,
     "metadata": {},
     "output_type": "execute_result"
    }
   ],
   "source": [
    "model.Add(sum([quadrados[i] for i in range(m)]) >= 1)"
   ]
  },
  {
   "cell_type": "markdown",
   "id": "55999416",
   "metadata": {},
   "source": [
    "## Optimização do problema"
   ]
  },
  {
   "cell_type": "markdown",
   "id": "4f11797d",
   "metadata": {},
   "source": [
    "Condição de optimizacão que minimiza o número de componentes não nulas \n",
    "     (minimiza a soma das componentes do vetor quadrados)."
   ]
  },
  {
   "cell_type": "code",
   "execution_count": 6,
   "id": "5af445f3",
   "metadata": {},
   "outputs": [],
   "source": [
    "model.Minimize(sum([quadrados[i] for i in range(m)]))"
   ]
  },
  {
   "cell_type": "markdown",
   "id": "a28f0303",
   "metadata": {},
   "source": [
    "## Impressão do vetor  e :"
   ]
  },
  {
   "cell_type": "code",
   "execution_count": 7,
   "id": "157bc7ee",
   "metadata": {},
   "outputs": [
    {
     "name": "stdout",
     "output_type": "stream",
     "text": [
      "1\n",
      "0\n",
      "-1\n",
      "-1\n",
      "0\n",
      "1\n",
      "-1\n",
      "0\n",
      "1\n",
      "1\n",
      "0\n",
      "1\n",
      "0\n",
      "-1\n",
      "-1\n",
      "-1\n"
     ]
    }
   ],
   "source": [
    "solver = cp_model.CpSolver()\n",
    "\n",
    "# Invoca o solver com o modelo criado\n",
    "status = solver.Solve(model)\n",
    "\n",
    "\n",
    "if status == cp_model.OPTIMAL or status == cp_model.FEASIBLE:\n",
    "      for i in range(m):\n",
    "        print(solver.Value(e[i]))\n",
    "        \n",
    "else:\n",
    "    print(\"Não foi possível\")"
   ]
  },
  {
   "cell_type": "code",
   "execution_count": null,
   "id": "f9dc3ffa",
   "metadata": {},
   "outputs": [],
   "source": []
  }
 ],
 "metadata": {
  "kernelspec": {
   "display_name": "Python 3 (ipykernel)",
   "language": "python",
   "name": "python3"
  },
  "language_info": {
   "codemirror_mode": {
    "name": "ipython",
    "version": 3
   },
   "file_extension": ".py",
   "mimetype": "text/x-python",
   "name": "python",
   "nbconvert_exporter": "python",
   "pygments_lexer": "ipython3",
   "version": "3.10.4"
  }
 },
 "nbformat": 4,
 "nbformat_minor": 5
}
