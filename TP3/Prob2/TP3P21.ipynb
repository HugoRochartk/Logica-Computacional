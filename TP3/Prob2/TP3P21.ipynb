{
 "cells": [
  {
   "cell_type": "markdown",
   "id": "cb1fe046",
   "metadata": {},
   "source": [
    "#   TP3  - Sistema Dinâmico  de Inversores  \n",
    "## Dezembro, 2022\n",
    "\n",
    "Bruno Miguel Ferreira Fernandes - a95972\n",
    "\n",
    "Hugo Filipe de Sá Rocha - a96463"
   ]
  },
  {
   "cell_type": "markdown",
   "id": "39b3295d",
   "metadata": {},
   "source": [
    "Cada inversor tem um bit $s$ de estado, inicializado  com um valor aleatório."
   ]
  },
  {
   "attachments": {
    "aaa.png": {
     "image/png": "[encoded data removed]"
    }
   },
   "cell_type": "markdown",
   "id": "87c5165a",
   "metadata": {},
   "source": [
    "![aaa.png](attachment:aaa.png)"
   ]
  },
  {
   "cell_type": "markdown",
   "id": "d234391c",
   "metadata": {},
   "source": [
    "Cada inversor é regido pelas seguintes transformações"
   ]
  },
  {
   "cell_type": "markdown",
   "id": "a3052ca3",
   "metadata": {},
   "source": [
    "$$\n",
    "\\begin{array}{c}\n",
    "invert(in,out)\\\\\n",
    "x \\gets \\mathsf{read}(\\mathtt{in})\\\\\n",
    "s \\gets \\neg x\\;\\;\\|\\;\\; s\\gets s\\oplus x\\\\\n",
    "\\mathsf{write}(\\mathtt{out},s)\\\\\n",
    "\\end{array}\n",
    "$$"
   ]
  },
  {
   "cell_type": "code",
   "execution_count": 22,
   "id": "782c1766",
   "metadata": {},
   "outputs": [],
   "source": [
    "from pysmt.shortcuts import *\n",
    "from pysmt.typing import *\n",
    "\n",
    "import random\n",
    "import itertools"
   ]
  },
  {
   "cell_type": "markdown",
   "id": "ae8051b6",
   "metadata": {},
   "source": [
    "### Funções auxiliares:\n",
    "- xor(b1,b2) - Aplica a operação de xor a 2 bits."
   ]
  },
  {
   "cell_type": "code",
   "execution_count": 23,
   "id": "a52c5192",
   "metadata": {},
   "outputs": [],
   "source": [
    "#xor entre 2 bits\n",
    "def xor(b1,b2):\n",
    "    if Equals(b1,b2):\n",
    "        return 0\n",
    "    else:\n",
    "        return 1"
   ]
  },
  {
   "cell_type": "markdown",
   "id": "45b3cffa",
   "metadata": {},
   "source": [
    "Para modelar este programa como um SFOTS teremos o conjunto $\\mathsf{X}$ de variáveis do estado dado pela lista `['pc', 't1', 't2', 't3', 't4', 'A', 'B', 'C', 'D']`, e definimos a função `genState` que recebe a lista com o nome das variáveis do estado, uma etiqueta e um inteiro, e cria a i-ésima cópia das variáveis do estado para essa etiqueta. As variáveis lógicas começam sempre com o nome de base das variáveis dos estado, seguido do separador `!`."
   ]
  },
  {
   "cell_type": "code",
   "execution_count": 24,
   "id": "84b3ebbe",
   "metadata": {},
   "outputs": [],
   "source": [
    "def genState(vars,s,i):\n",
    "    state = {}\n",
    "    for v in vars:\n",
    "        state[v] = Symbol(v+'!'+s+str(i),INT)\n",
    "    return state"
   ]
  },
  {
   "cell_type": "markdown",
   "id": "ce7b4ab0",
   "metadata": {},
   "source": [
    "A escolha neste comando é sempre determinística, isto é, em cada inversor a escolha do comando a executar é sempre a mesma. Porém essa escolha é determinada aleatoriamente na inicializarão do sistema."
   ]
  },
  {
   "cell_type": "code",
   "execution_count": 25,
   "id": "447343cc",
   "metadata": {},
   "outputs": [
    {
     "name": "stdout",
     "output_type": "stream",
     "text": [
      "O inversor A tem a transformação s <- ~x.\n",
      "O inversor B tem a transformação s <- ~x.\n",
      "O inversor C tem a transformação s <- ~x.\n",
      "O inversor D tem a transformação s <- xor(s, x).\n",
      "\n",
      "\n"
     ]
    }
   ],
   "source": [
    "#iniciar os 4 bits aleatoriamente\n",
    "r1 = random.randint(0,1)\n",
    "r2 = random.randint(0,1)\n",
    "r3 = random.randint(0,1)\n",
    "r4 = random.randint(0,1)\n",
    "\n",
    "\n",
    "#iniciar escolha deterministica dos 4 inversores aleatoriamente\n",
    "#0 -> s <- ~x   1-> s = xor(s,x)\n",
    "aux = ['A','B','C','D']\n",
    "escolhas = []\n",
    "\n",
    "for i in range(4):\n",
    "    r = random.randint(0,1)\n",
    "    if r == 0:\n",
    "        print(f'O inversor {aux[i]} tem a transformação s <- ~x.')\n",
    "        escolhas.append(0)\n",
    "    else:\n",
    "        print(f'O inversor {aux[i]} tem a transformação s <- xor(s, x).')\n",
    "        escolhas.append(1)\n",
    "\n",
    "print('\\n')"
   ]
  },
  {
   "cell_type": "markdown",
   "id": "eed86c7b",
   "metadata": {},
   "source": [
    "Definimos as seguintes funções para completar a modelação deste programa:"
   ]
  },
  {
   "cell_type": "markdown",
   "id": "7d7e06fa",
   "metadata": {},
   "source": [
    "- A função `init` dado um estado do programa (um dicionário de variáveis), devolve um predicado do pySMT que testa se esse estado é um possível estado inicial do programa."
   ]
  },
  {
   "cell_type": "code",
   "execution_count": 26,
   "id": "da7fafc3",
   "metadata": {},
   "outputs": [],
   "source": [
    "def init(state):\n",
    "    return And(Equals(state['t1'], Int(r1)), Equals(state['t2'], Int(r2)), \n",
    "               Equals(state['t3'], Int(r3)), Equals(state['t4'], Int(r4)),\n",
    "               Equals(state['A'], Int(escolhas[0])), Equals(state['B'], Int(escolhas[1])),\n",
    "               Equals(state['C'], Int(escolhas[2])), Equals(state['D'], Int(escolhas[3])),\n",
    "               Equals(state['pc'], Int(0)))"
   ]
  },
  {
   "cell_type": "markdown",
   "id": "9c74e390",
   "metadata": {},
   "source": [
    "- A função `error` dado um  estado do programa, devolve um predicado do pySMT que testa se esse estado é um possível estado de erro do programa."
   ]
  },
  {
   "cell_type": "markdown",
   "id": "4aa39a98",
   "metadata": {},
   "source": [
    "O sistema termina em ERRO quando o estado do sistema for $(0,0,0,0)$."
   ]
  },
  {
   "cell_type": "code",
   "execution_count": 27,
   "id": "c0a7ee1e",
   "metadata": {},
   "outputs": [],
   "source": [
    "def error(state):\n",
    "    return And(Equals(state['t1'], Int(0)), Equals(state['t2'], Int(0)), \n",
    "               Equals(state['t3'], Int(0)), Equals(state['t4'], Int(0)))"
   ]
  },
  {
   "cell_type": "markdown",
   "id": "e489e305",
   "metadata": {},
   "source": [
    "- A função `trans` que, dados dois estados do programa, devolve um predicado do pySMT que testa se é possível transitar do primeiro para o segundo estado."
   ]
  },
  {
   "cell_type": "code",
   "execution_count": 28,
   "id": "11a1250b",
   "metadata": {},
   "outputs": [],
   "source": [
    "def trans(curr, prox):\n",
    "    #Inversor A\n",
    "    t1 = And(\n",
    "        Equals(curr['pc'], Int(0)),\n",
    "        Equals(curr['A'], Int(0)), #escolha negaçao\n",
    "        Equals(curr['t4'], Int(1)),\n",
    "        Equals(prox['t1'], Int(0)),\n",
    "        Equals(prox['pc'], Int(1)),\n",
    "        Equals(prox['t2'], curr['t2']),\n",
    "        Equals(prox['t3'], curr['t3']),\n",
    "        Equals(prox['t4'], curr['t4']),\n",
    "        Equals(prox['A'], curr['A']),\n",
    "        Equals(prox['B'], curr['B']),\n",
    "        Equals(prox['C'], curr['C']),\n",
    "        Equals(prox['D'], curr['D'])\n",
    "    )\n",
    "    \n",
    "    \n",
    "    t2 = And(\n",
    "        Equals(curr['pc'], Int(0)),\n",
    "        Equals(curr['A'], Int(0)), #escolha negaçao\n",
    "        Equals(curr['t4'], Int(0)),\n",
    "        Equals(prox['t1'], Int(1)),\n",
    "        Equals(prox['pc'], Int(1)),\n",
    "        Equals(prox['t2'], curr['t2']),\n",
    "        Equals(prox['t3'], curr['t3']),\n",
    "        Equals(prox['t4'], curr['t4']),\n",
    "        Equals(prox['A'], curr['A']),\n",
    "        Equals(prox['B'], curr['B']),\n",
    "        Equals(prox['C'], curr['C']),\n",
    "        Equals(prox['D'], curr['D'])\n",
    "    ) \n",
    "    \n",
    "    \n",
    "    t3 = And(\n",
    "        Equals(curr['pc'], Int(0)),\n",
    "        Equals(curr['A'],  Int(1)), #escolha s -> s + x\n",
    "        Equals(prox['t1'],  Int(xor(prox['t1'],curr['t4']))),\n",
    "        Equals(prox['pc'],  Int(1)),\n",
    "        Equals(prox['t2'],  curr['t2']),\n",
    "        Equals(prox['t3'],  curr['t3']),\n",
    "        Equals(prox['t4'],  curr['t4']),\n",
    "        Equals(prox['A'],  curr['A']),\n",
    "        Equals(prox['B'],  curr['B']),\n",
    "        Equals(prox['C'], curr['C']),\n",
    "        Equals(prox['D'], curr['D'])\n",
    "    )\n",
    "    \n",
    "    #Inversor B\n",
    "    t4 = And(\n",
    "        Equals(curr['pc'], Int(1)),\n",
    "        Equals(curr['B'], Int(0)), #escolha negaçao\n",
    "        Equals(prox['t1'], curr['t1']),\n",
    "        Equals(prox['pc'], Int(2)),\n",
    "        Equals(curr['t1'], Int(1)),\n",
    "        Equals(prox['t2'], Int(0)),\n",
    "        Equals(prox['t3'], curr['t3']),\n",
    "        Equals(prox['t4'], curr['t4']),\n",
    "        Equals(prox['A'], curr['A']),\n",
    "        Equals(prox['B'], curr['B']),\n",
    "        Equals(prox['C'], curr['C']),\n",
    "        Equals(prox['D'], curr['D'])\n",
    "    )\n",
    "    \n",
    "    t5 = And(\n",
    "        Equals(curr['pc'], Int(1)),\n",
    "        Equals(curr['B'], Int(0)), #escolha negaçao\n",
    "        Equals(prox['t1'], curr['t1']),\n",
    "        Equals(prox['pc'], Int(2)),\n",
    "        Equals(curr['t1'], Int(0)),\n",
    "        Equals(prox['t2'], Int(1)),\n",
    "        Equals(prox['t3'], curr['t3']),\n",
    "        Equals(prox['t4'], curr['t4']),\n",
    "        Equals(prox['A'], curr['A']),\n",
    "        Equals(prox['B'], curr['B']),\n",
    "        Equals(prox['C'], curr['C']),\n",
    "        Equals(prox['D'], curr['D'])\n",
    "    )\n",
    "    \n",
    "    \n",
    "    t6 = And(\n",
    "        Equals(curr['pc'], Int(1)),\n",
    "        Equals(curr['B'],  Int(1)), #escolha s -> s + x\n",
    "        Equals(prox['t1'],  curr['t1']),\n",
    "        Equals(prox['pc'],  Int(2)),\n",
    "        Equals(prox['t2'],  Int(xor(prox['t2'],curr['t1']))),\n",
    "        Equals(prox['t3'],  curr['t3']),\n",
    "        Equals(prox['t4'],  curr['t4']),\n",
    "        Equals(prox['A'],  curr['A']),\n",
    "        Equals(prox['B'],  curr['B']),\n",
    "        Equals(prox['C'], curr['C']),\n",
    "        Equals(prox['D'], curr['D'])\n",
    "    )\n",
    "    \n",
    "    \n",
    "    #Inversor C\n",
    "    t7 = And(\n",
    "        Equals(curr['pc'], Int(2)),\n",
    "        Equals(curr['C'], Int(0)), #escolha negaçao\n",
    "        Equals(prox['t1'], curr['t1']),\n",
    "        Equals(prox['pc'], Int(3)),\n",
    "        Equals(prox['t2'], curr['t2']),\n",
    "        Equals(curr['t2'], Int(1)),\n",
    "        Equals(prox['t3'], Int(0)),\n",
    "        Equals(prox['t4'], curr['t4']),\n",
    "        Equals(prox['A'], curr['A']),\n",
    "        Equals(prox['B'], curr['B']),\n",
    "        Equals(prox['C'], curr['C']),\n",
    "        Equals(prox['D'], curr['D'])\n",
    "    )\n",
    "    \n",
    "    \n",
    "    t8 = And(\n",
    "        Equals(curr['pc'], Int(2)),\n",
    "        Equals(curr['C'], Int(0)), #escolha negaçao\n",
    "        Equals(prox['t1'], curr['t1']),\n",
    "        Equals(prox['pc'], Int(3)),\n",
    "        Equals(prox['t2'], curr['t2']),\n",
    "        Equals(curr['t2'], Int(0)),\n",
    "        Equals(prox['t3'], Int(1)),\n",
    "        Equals(prox['t4'], curr['t4']),\n",
    "        Equals(prox['A'], curr['A']),\n",
    "        Equals(prox['B'], curr['B']),\n",
    "        Equals(prox['C'], curr['C']),\n",
    "        Equals(prox['D'], curr['D'])\n",
    "    )\n",
    "    \n",
    "    \n",
    "    t9 = And(\n",
    "        Equals(curr['pc'], Int(2)),\n",
    "        Equals(curr['C'],  Int(1)), #escolha s -> s + x\n",
    "        Equals(prox['t1'],  curr['t1']),\n",
    "        Equals(prox['pc'],  Int(3)),\n",
    "        Equals(prox['t2'],  curr['t2']),\n",
    "        Equals(prox['t3'],  Int(xor(prox['t3'],curr['t2']))),\n",
    "        Equals(prox['t4'],  curr['t4']),\n",
    "        Equals(prox['A'],  curr['A']),\n",
    "        Equals(prox['B'],  curr['B']),\n",
    "        Equals(prox['C'], curr['C']),\n",
    "        Equals(prox['D'], curr['D'])\n",
    "    )\n",
    "    \n",
    "    #Inversor D\n",
    "    t10 = And(\n",
    "        Equals(curr['pc'], Int(3)),\n",
    "        Equals(curr['D'], Int(0)), #escolha negaçao\n",
    "        Equals(prox['t1'], curr['t1']),\n",
    "        Equals(prox['pc'], Int(0)),\n",
    "        Equals(prox['t2'], curr['t2']),\n",
    "        Equals(prox['t3'], curr['t3']),\n",
    "        Equals(curr['t3'], Int(1)),\n",
    "        Equals(prox['t4'], Int(0)),\n",
    "        Equals(prox['A'], curr['A']),\n",
    "        Equals(prox['B'], curr['B']),\n",
    "        Equals(prox['C'], curr['C']),\n",
    "        Equals(prox['D'], curr['D'])\n",
    "    )\n",
    "    \n",
    "    t11 = And(\n",
    "        Equals(curr['pc'], Int(3)),\n",
    "        Equals(curr['D'], Int(0)), #escolha negaçao\n",
    "        Equals(prox['t1'], curr['t1']),\n",
    "        Equals(prox['pc'], Int(0)),\n",
    "        Equals(prox['t2'], curr['t2']),\n",
    "        Equals(prox['t3'], curr['t3']),\n",
    "        Equals(curr['t3'], Int(0)),\n",
    "        Equals(prox['t4'], Int(1)),\n",
    "        Equals(prox['A'], curr['A']),\n",
    "        Equals(prox['B'], curr['B']),\n",
    "        Equals(prox['C'], curr['C']),\n",
    "        Equals(prox['D'], curr['D'])\n",
    "    )\n",
    "    \n",
    "    \n",
    "    \n",
    "    t12 = And(\n",
    "        Equals(curr['pc'], Int(3)),\n",
    "        Equals(curr['D'],  Int(1)), #escolha s -> s + x\n",
    "        Equals(prox['t1'],  curr['t1']),\n",
    "        Equals(prox['pc'],  Int(0)),\n",
    "        Equals(prox['t2'],  curr['t2']),\n",
    "        Equals(prox['t3'],  curr['t3']),\n",
    "        Equals(prox['t4'],  Int(xor(prox['t4'],curr['t3']))),\n",
    "        Equals(prox['A'],  curr['A']),\n",
    "        Equals(prox['B'],  curr['B']),\n",
    "        Equals(prox['C'], curr['C']),\n",
    "        Equals(prox['D'], curr['D'])\n",
    "    )\n",
    "    \n",
    "    return Or(t1,t2,t3,t4,t5,t6,t7,t8,t9,t10,t11,t12)"
   ]
  },
  {
   "cell_type": "markdown",
   "id": "a758ef1c",
   "metadata": {},
   "source": [
    "Seguindo esta notação, a fórmula \n",
    "$\\;\\mathsf{I}\\,\\land\\,\\mathsf{T}^n\\,$ denota um traço finito com $\\,n\\,$ transições em $\\Sigma\\,$, $\\,\\mathsf{X}_0,\\cdots,\\mathsf{X}_n\\,$, que descrevem estados acessíveis com $n$ ou menos transições. Inspirada nesta notação, a seguinte função `genTrace` gera um possível traço de execução com $n$ transições."
   ]
  },
  {
   "cell_type": "code",
   "execution_count": 29,
   "id": "7fb2a1f3",
   "metadata": {},
   "outputs": [
    {
     "name": "stdout",
     "output_type": "stream",
     "text": [
      "Passo: 0\n",
      "           pc = 0\n",
      "           t1 = 1\n",
      "           t2 = 0\n",
      "           t3 = 1\n",
      "           t4 = 0\n",
      "           A = 0\n",
      "           B = 0\n",
      "           C = 0\n",
      "           D = 1\n",
      "Passo: 1\n",
      "           pc = 1\n",
      "           t1 = 1\n",
      "           t2 = 0\n",
      "           t3 = 1\n",
      "           t4 = 0\n",
      "           A = 0\n",
      "           B = 0\n",
      "           C = 0\n",
      "           D = 1\n",
      "Passo: 2\n",
      "           pc = 2\n",
      "           t1 = 1\n",
      "           t2 = 0\n",
      "           t3 = 1\n",
      "           t4 = 0\n",
      "           A = 0\n",
      "           B = 0\n",
      "           C = 0\n",
      "           D = 1\n",
      "Passo: 3\n",
      "           pc = 3\n",
      "           t1 = 1\n",
      "           t2 = 0\n",
      "           t3 = 1\n",
      "           t4 = 0\n",
      "           A = 0\n",
      "           B = 0\n",
      "           C = 0\n",
      "           D = 1\n",
      "Passo: 4\n",
      "           pc = 0\n",
      "           t1 = 1\n",
      "           t2 = 0\n",
      "           t3 = 1\n",
      "           t4 = 0\n",
      "           A = 0\n",
      "           B = 0\n",
      "           C = 0\n",
      "           D = 1\n",
      "Passo: 5\n",
      "           pc = 1\n",
      "           t1 = 1\n",
      "           t2 = 0\n",
      "           t3 = 1\n",
      "           t4 = 0\n",
      "           A = 0\n",
      "           B = 0\n",
      "           C = 0\n",
      "           D = 1\n"
     ]
    }
   ],
   "source": [
    "def genTrace(vars,init,trans,error,n):\n",
    "    with Solver(name=\"z3\") as s:\n",
    "        \n",
    "        X = [genState(vars,'X',i) for i in range(n+1)]#cria n+1 estados (com etiqueta X)\n",
    "        I = init(X[0])\n",
    "        Tks = [ trans(X[i],X[i+1]) for i in range(n) ]\n",
    "        \n",
    "        if s.solve([I, And(Tks)]):  # testa se I /\\ T^n  é satisfazível\n",
    "            for i in range(n+1):\n",
    "                print(\"Passo:\",i)\n",
    "                for v in X[i]:\n",
    "                    print(\"          \",v,'=',s.get_value(X[i][v]))\n",
    "        else:\n",
    "            print('unsat')\n",
    "\n",
    "genTrace(['pc', 't1', 't2', 't3', 't4', 'A', 'B', 'C', 'D'], init, trans, error, 5)"
   ]
  },
  {
   "cell_type": "markdown",
   "id": "286e5bd1",
   "metadata": {},
   "source": [
    "Definimos uma função de ordem superior `invert` que recebe a função python que codifica a relação de transição e devolve a relação e transição inversa.\n",
    "Para auxiliar na implementação deste algoritmo, definimos ainda duas funções.\n",
    "A função `rename` renomeia uma fórmula (sobre um estado) de acordo com um dado estado. \n",
    "A função `same` testa se dois estados são iguais."
   ]
  },
  {
   "cell_type": "code",
   "execution_count": 30,
   "id": "f8b909cc",
   "metadata": {},
   "outputs": [],
   "source": [
    "def invert(trans):\n",
    "    return (lambda c, p: trans(p,c))\n",
    "\n",
    "def baseName(s):\n",
    "    return ''.join(list(itertools.takewhile(lambda x: x!='!', s)))\n",
    "\n",
    "def rename(form,state):\n",
    "    vs = get_free_variables(form)\n",
    "    pairs = [ (x,state[baseName(x.symbol_name())]) for x in vs ]\n",
    "    return form.substitute(dict(pairs))\n",
    "\n",
    "def same(state1,state2):\n",
    "    return And([Equals(state1[x],state2[x]) for x in state1])"
   ]
  },
  {
   "cell_type": "markdown",
   "id": "6a4ac5a9",
   "metadata": {},
   "source": [
    "### O algoritmo de \"model-checking\"\n",
    "\n",
    "O algoritmo de “model-checking” manipula as fórmulas $\\;\\mathsf{R}_n\\;\\equiv\\; \\mathsf{I}\\,\\land\\,\\mathsf{T}^n\\;$ e $\\;\\mathsf{U}_m\\equiv\\; \\mathsf{E}\\,\\land\\,\\mathsf{B}^m\\;$ fazendo crescer os índices $\\;n,m\\;$ de acordo  com as seguintes regras\n",
    "\n",
    "----------\n",
    "1. Inicia-se $n=0$, $\\;\\mathsf{R}_0 = \\mathsf{I}\\;$ e $\\;\\mathsf{U}_0 = \\mathsf{E}$.\n",
    "\n",
    "\n",
    "2.  No estado $\\,(n,m)\\,$  tem-se a certeza que em todos os estados anteriores não foi detectada nenhuma justificação para a insegurança do SFOTS. \n",
    "    Se $\\;\\mathsf{V}_{n,m}\\equiv\\;\\mathsf{R}_n\\land(X_n=Y_m)\\land\\mathsf{U}_m\\;$ é satisfazível o sistema é inseguro e o algoritmo termina com a mensagem **unsafe**.\n",
    "\n",
    "\n",
    "3. Se $\\;\\mathsf{V}_{n,m}\\equiv\\;\\mathsf{R}_n\\land(X_n=Y_m)\\land \\mathsf{U}_m\\;$ for insatisfazível calcula-se  $\\;{C}\\;$ como  o interpolante do par $\\,(\\mathsf{R}_n\\land(X_n=Y_m)\\,,\\,\\mathsf{U}_m)\\,$.\n",
    "     Neste caso verificam-se as tautologias    $\\mathsf{R}_n \\to C(X_n)\\;$  e $\\;\\mathsf{U}_m\\,\\to\\,\\neg\\, C(Y_m)\\;$.\n",
    "\n",
    "\n",
    "4. Testa-se a condição $\\;\\mathsf{SAT}(C\\land\\mathsf{T}\\land\\neg\\,C')=\\emptyset\\;$  para verificar se  $\\,C\\,$ é um invariante de $\\;\\mathsf{T}\\,$; se for invariante  então, pelo resultado anterior, sabe-se que $\\,\\mathsf{V}_{n',m'}\\;$ é insatisfazível para todo $\\,n'\\ge n\\,$ e $\\,m'\\ge n\\,$. O algoritmo termina com a mensagem **safe**.\n",
    "\n",
    "\n",
    "5. Se $\\,C\\,$ não for invariante de $\\,\\mathsf{T}\\,$ procura-se encontrar um majorante $\\,S \\supseteq C$ que verifique as condições do resultado referido: seja um invariante de $\\,\\mathsf{T}$   disjunto de $\\,\\mathsf{U}_m\\,$.\n",
    "\n",
    "\n",
    "6. Se for possível encontrar tal majorante $\\,S\\,$ então o algoritmo termina com a mensagem **safe**. Se não for possível encontrar o majorante pelo menos um dos índices $\\,n,m\\,$ é incrementado, os valores das fórmulas $\\,\\mathsf{R}_n\\,,\\,\\mathsf{U}_m\\,$ são actualizados e repete-se o processo a partir do passo 2."
   ]
  },
  {
   "cell_type": "markdown",
   "id": "2f3e0988",
   "metadata": {},
   "source": [
    "Definimos uma função de ordem superior `model-checking` que dada a lista de nomes das variáveis do sistema, um predicado que testa se um estado é inicial, um predicado que testa se um par de estados é uma transição válida, um predicado que testa se um estado é de erro, e dois números positivos N e M que são os limites máximos para os indices 𝑛 e 𝑚. Implementando o algoritmo iterativo que manipula as fórmulas $\\;\\mathsf{R}_n\\;\\equiv\\; \\mathsf{I}\\,\\land\\,\\mathsf{T}^n\\;$ e $\\;\\mathsf{U}_m\\equiv\\; \\mathsf{E}\\,\\land\\,\\mathsf{B}^m\\;$ fazendo crescer os índices 𝑛,𝑚 de acordo com as regras acima apresentadas."
   ]
  },
  {
   "cell_type": "code",
   "execution_count": 31,
   "id": "b1a2aa82",
   "metadata": {},
   "outputs": [
    {
     "name": "stdout",
     "output_type": "stream",
     "text": [
      "Não é possível encontrar um majorante\n",
      "Não é possível encontrar um majorante\n",
      "Não é possível encontrar um majorante\n",
      "Não é possível encontrar um majorante\n",
      "Não é possível encontrar um majorante\n",
      "Não é possível encontrar um majorante\n",
      "Safe\n"
     ]
    }
   ],
   "source": [
    "def model_checking(vars,init,trans,error,N,M):\n",
    "    with Solver(name=\"z3\") as s:\n",
    "\n",
    "        # Criar todos os estados que poderão vir a ser necessários.\n",
    "        X = [genState(vars,'X',i) for i in range(N+1)]\n",
    "        Y = [genState(vars,'Y',i) for i in range(M+1)]\n",
    "        \n",
    "        # Estabelecer a ordem pela qual os pares (n,m) vão surgir. Por exemplo:\n",
    "        order = sorted([(a,b) for a in range(1,N+1) for b in range(1,M+1)],\n",
    "                       key=lambda tup:tup[0]+tup[1]) \n",
    "        \n",
    "        for (n,m) in order:\n",
    "            Tn = And([trans(X[i], X[i+1]) for i in range(n)])\n",
    "            I = init(X[0]) \n",
    "            Rn = And(I, Tn)\n",
    "            \n",
    "            Bm = And([invert(trans)(Y[i], Y[i+1]) for i in range(m)])\n",
    "            E = error(Y[0])\n",
    "            Um = And(E, Bm)\n",
    "            \n",
    "            Vnm = And(Rn, same(X[n], Y[m]), Um)\n",
    "                \n",
    "            if s.solve([Vnm]):\n",
    "                print(\"Unsafe\")\n",
    "                return\n",
    "            else:# Vnm é instatisfazível\n",
    "                C = binary_interpolant(And(Rn, same(X[n], Y[m])), Um)\n",
    "                if C is None:\n",
    "                    print(\"Interpolant None\")\n",
    "                    break\n",
    "                C0 = rename(C, X[0])\n",
    "                C1 = rename(C, X[1])\n",
    "                T = trans(X[0], X[1])\n",
    "                if not s.solve([C0, T, Not(C1)]):   # C é invariante de T\n",
    "                    print(\"Safe\")\n",
    "                    return\n",
    "                else:\n",
    "                    S = rename(C, X[n])\n",
    "                    while True:\n",
    "                        A = And(S, trans(X[n], Y[m]))\n",
    "                        if s.solve([A,Um]):\n",
    "                            print(\"Não é possível encontrar um majorante\")\n",
    "                            break\n",
    "                        else:\n",
    "                            Cnew = binary_interpolant(A, Um)\n",
    "                            Cn = rename(Cnew, X[n])\n",
    "                            if s.solve([Cn, Not(S)]):  # Se Cn -> S não é tautologia\n",
    "                                S = Or(S, Cn)\n",
    "                            else:             # S foi encontrado\n",
    "                                print(\"Safe\")\n",
    "                                return\n",
    "\n",
    "model_checking(['pc', 't1', 't2', 't3', 't4', 'A', 'B', 'C', 'D'], \n",
    "               init, trans, error, 50, 50)"
   ]
  },
  {
   "cell_type": "code",
   "execution_count": null,
   "id": "b6921939",
   "metadata": {},
   "outputs": [],
   "source": []
  }
 ],
 "metadata": {
  "kernelspec": {
   "display_name": "Python 3 (ipykernel)",
   "language": "python",
   "name": "python3"
  },
  "language_info": {
   "codemirror_mode": {
    "name": "ipython",
    "version": 3
   },
   "file_extension": ".py",
   "mimetype": "text/x-python",
   "name": "python",
   "nbconvert_exporter": "python",
   "pygments_lexer": "ipython3",
   "version": "3.10.6"
  }
 },
 "nbformat": 4,
 "nbformat_minor": 5
}
