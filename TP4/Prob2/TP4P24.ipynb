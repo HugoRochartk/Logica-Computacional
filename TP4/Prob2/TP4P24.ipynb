{
 "cells": [
  {
   "cell_type": "markdown",
   "id": "8344b25a",
   "metadata": {},
   "source": [
    "#   TP4  - Algoritmo de Bubble Sort\n",
    "## Janeiro, 2022\n",
    "\n",
    "Bruno Miguel Ferreira Fernandes - a95972\n",
    "\n",
    "Hugo Filipe de Sá Rocha - a96463"
   ]
  },
  {
   "cell_type": "markdown",
   "id": "42007518",
   "metadata": {},
   "source": [
    "Começamos por importar as bibliotecas do PySMT e definir a função prove que verifica a validade de uma fórmula lógica usando um SMT solver."
   ]
  },
  {
   "cell_type": "code",
   "execution_count": 20,
   "id": "d6924ba6",
   "metadata": {},
   "outputs": [],
   "source": [
    "from pysmt.shortcuts import *\n",
    "from pysmt.typing import *\n",
    "\n",
    "\n",
    "def prove(f):\n",
    "    with Solver(name=\"z3\") as s:\n",
    "        s.add_assertion(Not(f))\n",
    "        if s.solve():\n",
    "            print(\"Failed to prove.\")\n",
    "        else:\n",
    "            print(\"Proved.\")"
   ]
  },
  {
   "cell_type": "markdown",
   "id": "8d24d221",
   "metadata": {},
   "source": [
    "### Definir variáveis"
   ]
  },
  {
   "cell_type": "code",
   "execution_count": 21,
   "id": "d63ce91e",
   "metadata": {},
   "outputs": [],
   "source": [
    "seq = [-2,1,2,-1,4,-4,-3,3]\n",
    "n = tam = len(seq)\n",
    "j = len(seq)-1\n",
    "changed = True"
   ]
  },
  {
   "cell_type": "markdown",
   "id": "8727b4ae",
   "metadata": {},
   "source": [
    "### Algoritmo Bubble Sort\n",
    "\n",
    "Tentamos fazer a prova deste algoritmo através do invariante e para isso introduzimos a variável j da qual depende completamente o invariante deste algoritmo."
   ]
  },
  {
   "cell_type": "code",
   "execution_count": 22,
   "id": "13e85a61",
   "metadata": {},
   "outputs": [
    {
     "name": "stdout",
     "output_type": "stream",
     "text": [
      "Avaliar pré-cond. e inv.: j = 7; n = 8; changed = True; seq = [-2, 1, 2, -1, 4, -4, -3, 3]\n",
      "j = 6: [-2, 1, -1, 2, -4, -3, 3, 4]//Todos os elementos a partir da posição 6 estão ordenados\n",
      "j = 5: [-2, -1, 1, -4, -3, 2, 3, 4]//Todos os elementos a partir da posição 5 estão ordenados\n",
      "j = 4: [-2, -1, -4, -3, 1, 2, 3, 4]//Todos os elementos a partir da posição 4 estão ordenados\n",
      "j = 3: [-2, -4, -3, -1, 1, 2, 3, 4]//Todos os elementos a partir da posição 3 estão ordenados\n",
      "j = 2: [-4, -3, -2, -1, 1, 2, 3, 4]//Todos os elementos a partir da posição 2 estão ordenados\n",
      "j = 1: [-4, -3, -2, -1, 1, 2, 3, 4]//Todos os elementos a partir da posição 1 estão ordenados\n",
      "j = 0: [-4, -3, -2, -1, 1, 2, 3, 4]//Todos os elementos a partir da posição 0 estão ordenados\n",
      "Avaliar pós-cond: j = 0; changed = False; seq = [-4, -3, -2, -1, 1, 2, 3, 4]\n"
     ]
    }
   ],
   "source": [
    "print(f\"Avaliar pré-cond. e inv.: j = {j}; n = {n}; changed = {changed}; seq = {seq}\")\n",
    "while changed or j != 0:\n",
    "    changed = False\n",
    "    for i in range(n-1):\n",
    "        if seq[i] > seq[i+1]:\n",
    "            seq[i], seq[i+1] = seq[i+1], seq[i]\n",
    "            changed = True\n",
    "    j -= 1\n",
    "    print(f\"j = {j}: {seq}//Todos os elementos a partir da posição {j} estão ordenados\")\n",
    "pass\n",
    "print(f\"Avaliar pós-cond: j = {j}; changed = {changed}; seq = {seq}\")"
   ]
  },
  {
   "cell_type": "markdown",
   "id": "5c34715a",
   "metadata": {},
   "source": [
    "Definimos a pré-condição e a pós-condição que descrevem a especificação deste algoritmo."
   ]
  },
  {
   "cell_type": "markdown",
   "id": "1ef5c49d",
   "metadata": {},
   "source": [
    "Tentamos provar a correção pelas 3 propriedades do invariante que são:\n",
    "    -> Ser válido no inicio do programa\n",
    "    -> Ser útíl\n",
    "    -> Ser preservado ao fim de cada iteração do ciclo"
   ]
  },
  {
   "cell_type": "markdown",
   "id": "beca85bb",
   "metadata": {},
   "source": [
    "```python\n",
    "pre: n == len(seq) and n >= 1 and changed == True and j == len(seq)-1 \n",
    "pos: forall k . 0 <= k < n-1 -> seq[k] <= seq[k+1] and changed == False and j == 0\n",
    "inv: forall k . j <= k < n-1 -> seq[k] <= seq[k+1]\n",
    "```"
   ]
  },
  {
   "cell_type": "markdown",
   "id": "4c8352c0",
   "metadata": {},
   "source": [
    "Tanto a pré como a pós-condição verificam-se no início e final do programa, respetivamente.\n",
    "\n",
    "```python\n",
    "Podemos também perceber que o invariante é válido no início do programa e a sua utilidade também\n",
    "é garantida visto que ~(changed == True or j != 0) and inv. => pós-condição.\n",
    "                      changed == False and j == 0 and inv. => pós-condição.\n",
    "```   \n",
    "\n",
    "Quanto à preservação do invariante em todas as iterações, é possível perceber que o algoritmo procura empurrar os maiores elementos para o final da lista pelo que na k-ésima iteração, os últimos k-ésimos elementos estão ordenados.\n",
    "Para isso utilizamos a variável j.\n"
   ]
  },
  {
   "cell_type": "code",
   "execution_count": 23,
   "id": "00a9ca0f",
   "metadata": {},
   "outputs": [
    {
     "name": "stdout",
     "output_type": "stream",
     "text": [
      "Proved.\n",
      "Proved.\n"
     ]
    }
   ],
   "source": [
    "seq = Symbol('seq', ArrayType(INT, INT))\n",
    "changed = Symbol('changed', BOOL)\n",
    "n = Symbol('n',INT)\n",
    "j = Symbol('j',INT)\n",
    "k = Symbol('k', INT)\n",
    "\n",
    "\n",
    "pre = And(n>=Int(1), Equals(n, Int(tam)), Iff(changed, Bool(True)), \n",
    "          Equals(j, (n+Int(-1))))\n",
    "\n",
    "\n",
    "pos = And(ForAll([k],Implies(And(k>=Int(0),k<=(n+Int(-2))), \n",
    "                     Select(seq,k)<=Select(seq,k+1))),\n",
    "                     Iff(changed, Bool(False)), Equals(j, Int(0)))\n",
    "\n",
    "inv = ForAll([k], Implies(And(k>=j ,k<=(n-2)), \n",
    "                  Select(seq,k) <= Select(seq,k+1)))\n",
    "\n",
    "\n",
    "\n",
    "init = Implies(pre, inv)\n",
    "\n",
    "util = Implies(And(Iff(changed, Bool(False)), Equals(j,Int(0)), inv), pos)\n",
    "\n",
    "#não conseguimos provar a preservação...\n",
    "\n",
    "prove(init)\n",
    "prove(util)\n"
   ]
  },
  {
   "cell_type": "markdown",
   "id": "db2dd5d3",
   "metadata": {},
   "source": [
    "# Outra alternativa que não necessitava da variável j nem do invariante seria a técnica SAU descrita abaixo:\n",
    "    "
   ]
  },
  {
   "cell_type": "code",
   "execution_count": 24,
   "id": "86dfd910",
   "metadata": {},
   "outputs": [],
   "source": [
    "\n",
    "# Auxiliares\n",
    "def prime(v):\n",
    "    return Symbol(\"next(%s)\" % v.symbol_name(), v.symbol_type())\n",
    "def fresh(v):\n",
    "    return FreshSymbol(typename=v.symbol_type(),template=v.symbol_name()+\"_%d\")\n",
    "\n",
    "# A classe \"Sigle Assignment Unfold\"\n",
    "class SAU(object):\n",
    "    \"\"\"Trivial representation of a while cycle and its unfolding.\"\"\"\n",
    "    def __init__(self, variables, pre , pos, control, trans, sname=\"z3\"):\n",
    "              \n",
    "        self.variables = variables       # variables   \n",
    "        self.pre = pre                   # pre-condition as a predicate in \"variables\"\n",
    "        self.pos = pos                   # pos-condition as a predicate in \"variables\"\n",
    "        self.control = control           # cycle control as a predicate in \"variables\"\n",
    "        self.trans = trans               # cycle body as a binary transition relation \n",
    "                                         # in \"variables\" and \"prime variables\"\n",
    "        \n",
    "        self.prime_variables = [prime(v) for v in self.variables]\n",
    "        self.frames = [And([Not(control),pos])]  \n",
    "                 # inializa com uma só frame: a da terminação do ciclo\n",
    "        \n",
    "        self.solver = Solver(name=sname)\n",
    "\n",
    "    def new_frame(self):        \n",
    "        freshs = [fresh(v) for v in self.variables]    \n",
    "        b = self.control\n",
    "        S = self.trans.substitute(dict(zip(self.prime_variables,freshs)))\n",
    "        W = self.frames[-1].substitute(dict(zip(self.variables,freshs)))\n",
    "        \n",
    "        self.frames.append(And([b , ForAll(freshs, Implies(S, W))]))\n",
    "        \n",
    "    def unfold(self,bound=0):\n",
    "        n = 0\n",
    "        while True:\n",
    "            if n > bound:\n",
    "                print(\"falha: número de tentativas ultrapassa o limite %d \"%bound)\n",
    "                break\n",
    "            \n",
    "            f = Or(self.frames)\n",
    "            if self.solver.solve([self.pre,Not(f)]):  \n",
    "                self.new_frame()\n",
    "                n += 1\n",
    "            else:\n",
    "                print(\"sucesso na tentativa %d \"%n)\n",
    "                break   \n",
    "\n",
    "                             \n",
    "\n",
    "\n",
    "# O ciclo\n",
    "i = Symbol(\"i\", INT)\n",
    "changed = Symbol(\"changed\", BOOL)\n",
    "seq = Symbol(\"seq\", ArrayType(INT, INT))\n",
    "\n",
    "variables = [i, changed, seq]\n",
    "\n",
    "pre  =  And(n>=Int(1), Equals(n, Int(tam)), Iff(changed, Bool(True)))       \n",
    "\n",
    "pos = And(ForAll([k],Implies(And(k>=Int(0),k<=(n+Int(-2))), \n",
    "                             Select(seq,k)<=Select(seq,k+1))),\n",
    "                             Iff(changed, Bool(False))) # pós-condição\n",
    "\n",
    "cond =  Iff(changed , Bool(True)) # condição de controlo do ciclo\n",
    "\n",
    "#trans =  # corpo do ciclo como uma relaçao de transição, não conseguimos fazer...\n",
    "\n",
    "#W = SAU(variables, pre, pos, cond, trans)"
   ]
  }
 ],
 "metadata": {
  "kernelspec": {
   "display_name": "Python 3 (ipykernel)",
   "language": "python",
   "name": "python3"
  },
  "language_info": {
   "codemirror_mode": {
    "name": "ipython",
    "version": 3
   },
   "file_extension": ".py",
   "mimetype": "text/x-python",
   "name": "python",
   "nbconvert_exporter": "python",
   "pygments_lexer": "ipython3",
   "version": "3.10.6"
  }
 },
 "nbformat": 4,
 "nbformat_minor": 5
}
